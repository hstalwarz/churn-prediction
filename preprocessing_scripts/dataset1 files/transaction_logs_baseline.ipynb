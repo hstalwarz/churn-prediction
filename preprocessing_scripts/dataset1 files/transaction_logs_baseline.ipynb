{
 "cells": [
  {
   "cell_type": "code",
   "execution_count": 6,
   "metadata": {},
   "outputs": [],
   "source": [
    "import pandas as pd\n",
    "\n",
    "def main():\n",
    "    \n",
    "    files =[\"transactions_log_201702\",\"transactions_log_201701\",\"transactions_log_201612\",\"transactions_log_201611\",\"transactions_log_201610\",\"transactions_log_201609\"]\n",
    "    \n",
    "    #combining transactions log\n",
    "    df0 = pd.concat([pd.read_csv('./data/' + f + '.csv') for f in files])\n",
    "    df0 = df0.sort_values(['msno','transaction_date','membership_expire_date'])\n",
    "    \n",
    "    #Aggregating transactions log for feature creation\n",
    "    #aggregating columns for each msno\n",
    "    df1 = df0.groupby('msno').agg({'payment_plan_days':['mean'], 'actual_amount_paid':['mean'], \n",
    "                                    'plan_list_price':['mean'],'payment_method_id':'count'}).reset_index()\n",
    "\n",
    "    df1.columns = ['msno', 'payment_plan_days_mean','actual_amount_paid_mean','plan_list_price_mean','payment_counts']\n",
    "\n",
    "    df1.columns = ['msno'] + [str(col) for col in df1.columns[1:]] \n",
    "    \n",
    "    \n",
    "    #Getting the latest record for each msno\n",
    "    df2 = df0.loc[df0.groupby('msno').transaction_date.idxmax()].reset_index(drop=True)\n",
    "    \n",
    "    df2.columns = ['msno','latest_payment_method_id','latest_payment_plan_days',\n",
    "               'latest_plan_list_price_mean','latest_actual_amount_paid','latest_is_auto_renew',\n",
    "               'latest_trnsaction_date','latest_membership_expire_date','latest_is_cancel']\n",
    "\n",
    "    df2.columns = ['msno'] + [str(col) for col in df2.columns[1:]] \n",
    "    \n",
    "    #merging the two dataframes\n",
    "    df = pd.merge(df1, df2, how='inner', left_on=['msno'], right_on=['msno'])\n",
    "    \n",
    "    #writing the combined aggregated transaction_logs to csv\n",
    "    df.to_csv(\"transaction_logs_initial1.csv\",index=False)\n",
    "    \n",
    "    \n",
    "if __name__ == '__main__':\n",
    "    main()"
   ]
  },
  {
   "cell_type": "code",
   "execution_count": null,
   "metadata": {
    "collapsed": true
   },
   "outputs": [],
   "source": []
  }
 ],
 "metadata": {
  "kernelspec": {
   "display_name": "Python 3",
   "language": "python",
   "name": "python3"
  },
  "language_info": {
   "codemirror_mode": {
    "name": "ipython",
    "version": 3
   },
   "file_extension": ".py",
   "mimetype": "text/x-python",
   "name": "python",
   "nbconvert_exporter": "python",
   "pygments_lexer": "ipython3",
   "version": "3.6.2"
  }
 },
 "nbformat": 4,
 "nbformat_minor": 2
}
